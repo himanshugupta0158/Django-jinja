{
 "cells": [
  {
   "cell_type": "code",
   "execution_count": 2,
   "metadata": {},
   "outputs": [
    {
     "name": "stdout",
     "output_type": "stream",
     "text": [
      "Requirement already satisfied: Jinja2 in c:\\users\\himan\\onedrive\\desktop\\django-jinja\\venv\\lib\\site-packages (3.1.2)\n",
      "Requirement already satisfied: MarkupSafe>=2.0 in c:\\users\\himan\\onedrive\\desktop\\django-jinja\\venv\\lib\\site-packages (from Jinja2) (2.1.1)\n"
     ]
    },
    {
     "name": "stderr",
     "output_type": "stream",
     "text": [
      "WARNING: You are using pip version 21.2.4; however, version 22.3 is available.\n",
      "You should consider upgrading via the 'C:\\Users\\himan\\OneDrive\\Desktop\\Django-jinja\\venv\\Scripts\\python.exe -m pip install --upgrade pip' command.\n"
     ]
    }
   ],
   "source": [
    "!pip install Jinja2"
   ]
  },
  {
   "cell_type": "code",
   "execution_count": 1,
   "metadata": {},
   "outputs": [],
   "source": [
    "from jinja2 import Environment, FileSystemLoader, select_autoescape"
   ]
  },
  {
   "cell_type": "code",
   "execution_count": 2,
   "metadata": {},
   "outputs": [],
   "source": [
    "env = Environment(\n",
    "    loader = FileSystemLoader(\"templates\"),\n",
    "    autoescape= select_autoescape()\n",
    ")"
   ]
  },
  {
   "cell_type": "code",
   "execution_count": 4,
   "metadata": {},
   "outputs": [
    {
     "name": "stdout",
     "output_type": "stream",
     "text": [
      "<!DOCTYPE html>\n",
      "<html>\n",
      "<head>\n",
      "    <meta charset=\"utf-8\">\n",
      "    <meta name=\"viewport\" content=\"width=device-width, initial-scale=1\">\n",
      "    <title>Home</title>\n",
      "</head>\n",
      "<body>\n",
      "\n",
      "\n",
      "    <!DOCTYPE html>\n",
      "<html>\n",
      "<head>\n",
      "    <meta charset=\"utf-8\">\n",
      "    <meta name=\"viewport\" content=\"width=device-width, initial-scale=1\">\n",
      "    <title>Home</title>\n",
      "</head>\n",
      "<body>\n",
      "\n",
      "    hello Friend\n",
      "\n",
      "</body>\n",
      "</html>\n",
      "\n",
      "    \n",
      "\n",
      "<h1>Detail View</h1>\n",
      "\n",
      "View number \n",
      "\n",
      "\n",
      "Hello There <br />\n",
      "\n",
      "\n",
      "<table>\n",
      "\n",
      "\n",
      "</table>\n",
      "\n",
      "\n",
      "\n",
      "</body>\n",
      "</html>\n"
     ]
    }
   ],
   "source": [
    "template = env.get_template(\"index.html\")\n",
    "\n",
    "print(template.render(thing = \"Hello There\"))\n"
   ]
  },
  {
   "cell_type": "code",
   "execution_count": 20,
   "metadata": {},
   "outputs": [
    {
     "name": "stdout",
     "output_type": "stream",
     "text": [
      "<!DOCTYPE html>\n",
      "<html>\n",
      "    <head>\n",
      "        <title>Jinja Demo</title>\n",
      "    </head>\n",
      "    <body>\n",
      "        \n",
      "        Hello There <br />\n",
      "\n",
      "\n",
      "        <table>\n",
      "        \n",
      "            <tr  >\n",
      "                <td>wibble</td>\n",
      "                <td>451</td>\n",
      "            </tr>\n",
      "        \n",
      "            <tr  >\n",
      "                <td>wer</td>\n",
      "                <td>452</td>\n",
      "            </tr>\n",
      "        \n",
      "            <tr class = \"different_color\" >\n",
      "                <td>dfg</td>\n",
      "                <td>453</td>\n",
      "            </tr>\n",
      "        \n",
      "            <tr  >\n",
      "                <td>dfg</td>\n",
      "                <td>454</td>\n",
      "            </tr>\n",
      "        \n",
      "            <tr  >\n",
      "                <td>hgfg</td>\n",
      "                <td>455</td>\n",
      "            </tr>\n",
      "        \n",
      "        </table>\n",
      "    </body>\n",
      "</html>\n"
     ]
    }
   ],
   "source": [
    "# for use in django\n",
    "template = env.get_template(\"index.html\")\n",
    "context = {\n",
    "    \"thing\" : \"Hello There\",\n",
    "    \"data\" : [\n",
    "        {\"name\" : \"wibble\", \"count\" : 451},\n",
    "        {\"name\" : \"wer\", \"count\" : 452},\n",
    "        {\"name\" : \"dfg\", \"count\" : 453},\n",
    "        {\"name\" : \"dfg\", \"count\" : 454},\n",
    "        {\"name\" : \"hgfg\", \"count\" : 455},\n",
    "    ]\n",
    "\n",
    "}\n",
    "\n",
    "print(template.render(**context))"
   ]
  },
  {
   "cell_type": "code",
   "execution_count": 5,
   "metadata": {},
   "outputs": [
    {
     "name": "stdout",
     "output_type": "stream",
     "text": [
      "<!DOCTYPE html>\n",
      "<html>\n",
      "<head>\n",
      "    <meta charset=\"utf-8\">\n",
      "    <meta name=\"viewport\" content=\"width=device-width, initial-scale=1\">\n",
      "    <title>Home</title>\n",
      "</head>\n",
      "<body>\n",
      "\n",
      "\n",
      "    <!DOCTYPE html>\n",
      "<html>\n",
      "<head>\n",
      "    <meta charset=\"utf-8\">\n",
      "    <meta name=\"viewport\" content=\"width=device-width, initial-scale=1\">\n",
      "    <title>Home</title>\n",
      "</head>\n",
      "<body>\n",
      "\n",
      "    hello Friend\n",
      "\n",
      "</body>\n",
      "</html>\n",
      "\n",
      "    \n",
      "\n",
      "<h1>Detail View</h1>\n",
      "\n",
      "View number 123456\n",
      "\n",
      "\n",
      " <br />\n",
      "\n",
      "\n",
      "<table>\n",
      "\n",
      "\n",
      "</table>\n",
      "\n",
      "\n",
      "\n",
      "</body>\n",
      "</html>\n"
     ]
    }
   ],
   "source": [
    "template = env.get_template(\"index.html\") # template inheritence\n",
    "\n",
    "print(template.render(number = \"123456\")) "
   ]
  },
  {
   "cell_type": "code",
   "execution_count": null,
   "metadata": {},
   "outputs": [],
   "source": []
  }
 ],
 "metadata": {
  "kernelspec": {
   "display_name": "Python 3.10.1 ('venv': venv)",
   "language": "python",
   "name": "python3"
  },
  "language_info": {
   "codemirror_mode": {
    "name": "ipython",
    "version": 3
   },
   "file_extension": ".py",
   "mimetype": "text/x-python",
   "name": "python",
   "nbconvert_exporter": "python",
   "pygments_lexer": "ipython3",
   "version": "3.10.1"
  },
  "orig_nbformat": 4,
  "vscode": {
   "interpreter": {
    "hash": "ab0976723e0d015dacf20d7711dc9b2fac9dab56f63495b1300301303039537c"
   }
  }
 },
 "nbformat": 4,
 "nbformat_minor": 2
}
